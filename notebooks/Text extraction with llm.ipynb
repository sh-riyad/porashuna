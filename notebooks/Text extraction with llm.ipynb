{
 "cells": [
  {
   "cell_type": "code",
   "execution_count": 35,
   "id": "314885e5-b4f8-4b36-a12b-e56ad27c6882",
   "metadata": {},
   "outputs": [],
   "source": [
    "import os\n",
    "from dotenv import load_dotenv\n",
    "\n",
    "load_dotenv()\n",
    "\n",
    "os.environ[\"GOOGLE_API_KEY\"] = os.getenv(\"GOOGLE_API_KEY\")\n",
    "os.environ[\"LANGSMITH_TRACING\"] = os.getenv(\"LANGSMITH_TRACING\")\n",
    "os.environ[\"LANGSMITH_ENDPOINT\"] = os.getenv(\"LANGSMITH_ENDPOINT\")\n",
    "os.environ[\"LANGSMITH_API_KEY\"] = os.getenv(\"LANGSMITH_API_KEY\")\n",
    "os.environ[\"LANGSMITH_PROJECT\"] = os.getenv(\"LANGSMITH_PROJECT\")"
   ]
  },
  {
   "cell_type": "code",
   "execution_count": 36,
   "id": "f77ff515-e968-4cae-ba89-ade8217cc7e3",
   "metadata": {},
   "outputs": [],
   "source": [
    "from langchain_google_genai import ChatGoogleGenerativeAI\n",
    "\n",
    "llm = ChatGoogleGenerativeAI(model=\"gemini-1.5-flash\", temperature=0)"
   ]
  },
  {
   "cell_type": "code",
   "execution_count": 37,
   "id": "e65f0a5f-531f-45ff-abcc-731e6482be51",
   "metadata": {},
   "outputs": [
    {
     "name": "stdout",
     "output_type": "stream",
     "text": [
      "I am doing well, thank you for asking!  How are you today?\n"
     ]
    }
   ],
   "source": [
    "response = llm.invoke(\"Hello! how are you?\")\n",
    "\n",
    "print(response.content)"
   ]
  },
  {
   "cell_type": "code",
   "execution_count": null,
   "id": "1305494c-db7f-4bed-9e4c-0ae24492f3ab",
   "metadata": {},
   "outputs": [],
   "source": []
  },
  {
   "cell_type": "code",
   "execution_count": 38,
   "id": "f0a7eb37-66be-40e1-a486-00f1418d96e7",
   "metadata": {},
   "outputs": [],
   "source": [
    "PDF_TO_TEXT_PROMPT = \"\"\"\n",
    "You are a highly accurate document parser. Your task is to extract *everything* from a PDF document.\n",
    "\n",
    "The input is raw PDF content (converted to text and image snippets). Extract and preserve the following:\n",
    "\n",
    "1. **All textual content**, including:\n",
    "   - Page numbers\n",
    "   - Headers and footers\n",
    "   - Paragraphs, tables, lists, and titles\n",
    "   - Questions and answers (if present)\n",
    "2. **Image content** should be included as summaries or captions like:\n",
    "   - [Image]: A diagram showing a neural network architecture.\n",
    "3. Preserve the **page structure** with clear delimiters like:\n",
    "   - === Page 1 ===\n",
    "   - === Page 2 ===\n",
    "\n",
    "Make sure your output is:\n",
    "- In Markdown\n",
    "- Preserves the order and layout as much as possible\n",
    "- Suitable for semantic chunking and retrieval-based systems\n",
    "\n",
    "Do not skip any content. Your goal is to represent the document *completely and accurately* for storage in a vector database.\n",
    "\n",
    "Now extract the content.\n",
    "\"\"\""
   ]
  },
  {
   "cell_type": "code",
   "execution_count": 21,
   "id": "2c485dc7-4fb8-40ea-a8eb-d01fde6f75b4",
   "metadata": {},
   "outputs": [],
   "source": [
    "# from langchain_community.document_loaders import PyPDFLoader\n",
    "\n",
    "# loader = PyPDFLoader(\"resources/HSC26-Bangla1st-Paper-4.pdf\")\n",
    "# documents = loader.load()"
   ]
  },
  {
   "cell_type": "code",
   "execution_count": 44,
   "id": "3ea553d4-7a05-45b4-bae7-b27acb724355",
   "metadata": {},
   "outputs": [],
   "source": [
    "import base64\n",
    "\n",
    "with open(\"resources/HSC26-Bangla1st-Paper-4.pdf\", \"rb\") as f:\n",
    "    pdf_bytes = f.read()\n",
    "    pdf_base64 = base64.b64encode(pdf_bytes).decode()"
   ]
  },
  {
   "cell_type": "code",
   "execution_count": 41,
   "id": "b9b22c87-a1e2-4e93-96bb-90c46b1681fa",
   "metadata": {},
   "outputs": [],
   "source": [
    "messages = [\n",
    "    SystemMessage(content=PDF_TO_TEXT_PROMPT),\n",
    "    HumanMessage(content=[\n",
    "        {\n",
    "            \"type\": \"text\",\n",
    "            \"text\": \"Please extract and process all text from this PDF document, paying special attention to Bangla/Bengali content.\"\n",
    "        },\n",
    "        {\n",
    "            \"type\": \"image_url\",\n",
    "            \"image_url\": {\n",
    "                \"url\": f\"data:application/pdf;base64,{pdf_base64}\"\n",
    "            }\n",
    "        }\n",
    "    ])\n",
    "]"
   ]
  },
  {
   "cell_type": "code",
   "execution_count": 45,
   "id": "f4f72b62-4d7e-4b3c-9810-67a6c583bda8",
   "metadata": {},
   "outputs": [],
   "source": [
    "# import time\n",
    "\n",
    "# start_time = time.time()\n",
    "# response = llm.invoke(messages)\n",
    "# processing_time = time.time() - start_time\n",
    "\n",
    "\n",
    "# print(processing_time)"
   ]
  },
  {
   "cell_type": "code",
   "execution_count": null,
   "id": "96df4e8d-81c5-47ad-b912-f7b565396b71",
   "metadata": {},
   "outputs": [],
   "source": []
  },
  {
   "cell_type": "code",
   "execution_count": 46,
   "id": "99f63c6e-4fb3-40bb-8e44-6394168f6c19",
   "metadata": {},
   "outputs": [],
   "source": [
    "# from langchain_core.messages import SystemMessage, HumanMessage\n",
    "\n",
    "# extracted_texts = []\n",
    "# for doc in documents:\n",
    "#     prompt = [\n",
    "#         SystemMessage(content=PDF_TO_TEXT_PROMPT),\n",
    "#         HumanMessage(doc.page_content)\n",
    "#     ]\n",
    "#     response = llm.invoke(prompt)\n",
    "#     extracted_texts.append(response.content)\n",
    "\n",
    "# # Combine extracted texts\n",
    "# bangla_text = \"\\n\".join(extracted_texts)"
   ]
  },
  {
   "cell_type": "code",
   "execution_count": null,
   "id": "8208948a-11d5-4491-b0b2-f9edd01adea0",
   "metadata": {},
   "outputs": [],
   "source": []
  },
  {
   "cell_type": "code",
   "execution_count": 24,
   "id": "9cf64ac3-2ab6-4680-9362-3a9b4c0e34c1",
   "metadata": {},
   "outputs": [
    {
     "data": {
      "text/plain": [
       "'শব্দার্ব ও টীকা\\nেূ  শব্দ শলব্দি অর্ব ও িযাখ্যা\\nমনু-সংহীতা র্ব্ধানকতিা ব্া িাস্ত্রপ্রকণতা মুর্নর্ব্কিষ।\\nমনু-সংহীতা মনু-প্রণীত মানুকষি আচিণর্ব্র্ধ সংক্রান্ত গ্রন্থ ।\\nপ্রিাপর্ত িীকব্ি রষ্ট্া। ব্রহ্মা। ইর্ন র্ব্ক ি যদব্তা।\\nপঞ্চিি মদনকদকব্ি ব্যব্হােি পঁাচ ধিকনি ব্াণ।\\nকন্সটি নানা িকম ব্াদযেকন্ত্রি ঐকতান।\\nযসকিা স্বণিকাি, যসানাি অলংকাি প্রস্তুতকািক\\nব্ব্িি যকালাহকলি মি হস্তী দ্বািা \\nসংগীতসিস্বতীি পদ্মব্ন\\nদজলত র্ব্দজলত কর্ি া আর্ম যতা \\nর্ব্ব্াহ-ব্ার়্েকত র্গ া\\nউঠিলাম\\nঅনুপম র্নকিি র্ব্ব্াহোত্রাি পর্িজির্ত'"
      ]
     },
     "metadata": {},
     "output_type": "display_data"
    }
   ],
   "source": [
    "from IPython.display import display\n",
    "display(bangla_text[:500])"
   ]
  },
  {
   "cell_type": "code",
   "execution_count": null,
   "id": "ce1e0020-c801-43e7-97be-68620fb9dfb5",
   "metadata": {},
   "outputs": [],
   "source": []
  },
  {
   "cell_type": "code",
   "execution_count": null,
   "id": "249e7a75-c93d-43cb-bbef-f0e376965fd7",
   "metadata": {},
   "outputs": [],
   "source": []
  },
  {
   "cell_type": "markdown",
   "id": "6e042181-1f45-4887-983e-b10eea34393b",
   "metadata": {},
   "source": [
    "## Google SDK"
   ]
  },
  {
   "cell_type": "code",
   "execution_count": 52,
   "id": "672d0730-5a82-4259-a50c-21d5f98da4cc",
   "metadata": {},
   "outputs": [],
   "source": [
    "import google.generativeai as genai\n",
    "\n",
    "gemini_model = genai.GenerativeModel('gemini-1.5-flash')"
   ]
  },
  {
   "cell_type": "code",
   "execution_count": 53,
   "id": "9f268535-c9a3-4fc6-b782-848179bd75e5",
   "metadata": {},
   "outputs": [
    {
     "name": "stdout",
     "output_type": "stream",
     "text": [
      "12.135200262069702\n"
     ]
    }
   ],
   "source": [
    "uploaded_file = genai.upload_file(\"resources/HSC26-Bangla1st-Paper-4.pdf\", mime_type=\"application/pdf\")\n",
    "        \n",
    "        \n",
    "start_time = time.time()\n",
    "response = gemini_model.generate_content([PDF_TO_TEXT_PROMPT, uploaded_file])\n",
    "processing_time = time.time() - start_time\n",
    "        \n",
    "genai.delete_file(uploaded_file.name)\n",
    "\n",
    "print(processing_time)"
   ]
  },
  {
   "cell_type": "code",
   "execution_count": 55,
   "id": "8998650a-7b9c-4553-a320-f0f21291cc84",
   "metadata": {},
   "outputs": [
    {
     "name": "stdout",
     "output_type": "stream",
     "text": [
      "Total character = 1564\n"
     ]
    }
   ],
   "source": [
    "extracted_text = response.text\n",
    "\n",
    "print(f\"Total character = {len(extracted_text)}\")"
   ]
  },
  {
   "cell_type": "code",
   "execution_count": 57,
   "id": "c15808e9-4f01-472b-a3bd-0062e1589938",
   "metadata": {},
   "outputs": [
    {
     "data": {
      "text/markdown": [
       "=== Page 1 ===\n",
       "\n",
       "**শব্দার্থ ও টীকা**\n",
       "\n",
       "| মূল শব্দ | শব্দের অর্থ ও ব্যাখ্যা |\n",
       "|---|---|\n",
       "| মনু-সংহীতা | বিধানকর্তা বা শাস্ত্রপ্রণেতা মুনিবিশেষ। |\n",
       "| মনু-সংহীতা | মনু-প্রণীত মানুষের আচরণবিধি সংক্রান্ত গ্রন্থ। |\n",
       "| প্রজাপতি | জীবের স্রষ্টা। ব্রহ্মা। ইনি বিয়ের দেবতা। |\n",
       "| পঞ্চশর | মদনদেবের ব্যবহার্য পাঁচ ধরনের বাণ। |\n",
       "| কন্সর্ট | নানা রকম বাদ্যযন্ত্রের ঐকতান। |\n",
       "| সেকরা | স্বর্ণকার, সোনার অলংকার প্রস্তুতকারক |\n",
       "| বর্বর কোলাহলের মত্ত হস্তী দ্বারা <br> সংগীতসরস্বতীর পদ্মবন <br> দলিত বিদলিত করিয়া আমি তো <br> বিবাহ-বাড়িতে গিয়া <br> উঠিলাম | অনুপম নিজের বিবাহযাত্রার পরিস্থিতি বর্ণনায় সুরশূন্য <br> বিকট কোলাহলকে সংগীত সরস্বতীর পদ্মবন দলিত হওয়ার <br> ঘটনার সঙ্গে তুলনা করেছে। |\n",
       "| অভিষিক্ত | অভিষেক করা হয়েছে এমন |\n",
       "| সওগাঁদ | উপঢৌকন। ভেট। |\n",
       "| দেওয়া-থোওয়া | যে পাথরে ঘষে সোনার খাঁটিত্ব পরীক্ষা করা হয় |\n",
       "| কষ্টিপাথর | আলবোলা। ফরসি। দীর্ঘ নলযুক্ত হুকাবিশেষ |\n",
       "| মকরমুখো মোটা একখানা বালা | মকর বা কুমিরের মুখাকৃতিযুক্ত হাতে পরিধেয় <br> অলংকারবিশেষ |\n",
       "| এয়ারিং | কানের দুল। Earring |\n",
       "| দক্ষযজ্ঞ | প্রজাপতি দক্ষ কর্তৃক অনুষ্ঠিত যজ্ঞ। এ যজ্ঞে পতিনিন্দা শুনে <br> সতী দেহত্যাগ করেন। স্ত্রীর মৃত্যুসংবাদ শুনে শিব <br> অনুচরসহ যজ্ঞস্থলে পৌছে যজ্ঞ ধ্বংস করে দেন এবং সতীর <br> শব কাঁধে তুলে নিয়ে প্রলয় নৃত্যে মত্ত হন। এখানে প্রলয়কাণ্ড <br> বা হট্টগোল বোঝাচ্ছে। |\n",
       "| রসনচৌকি | শানাই, ঢোল ও কাঁসি- এই তিন বাদ্যযন্ত্রে সৃষ্ট ঐকতানবাদন |\n",
       "| অভ্র | এক ধরনের খনিজ ধাতু। Mica |\n",
       "| অভ্রের ঝাড় | অভ্রের তৈরি ঝাড়বাতি। |\n",
       "| মহানির্বাণ | সবরকমের বন্ধন থেকে মুক্তি। |\n",
       "| কলি | পুরাণে বর্ণিত চার যুগের শেষ যুগ। কলিযুগ। |\n",
       "| কলি যে চারপোয়া হইয়া আসিল। | কলিকাল পরিপূর্ণরূপে আত্মপ্রকাশ করল। |\n",
       "\n",
       "4\n"
      ],
      "text/plain": [
       "<IPython.core.display.Markdown object>"
      ]
     },
     "metadata": {},
     "output_type": "display_data"
    }
   ],
   "source": [
    "from IPython.display import display, Markdown\n",
    "\n",
    "display(Markdown(extracted_text))"
   ]
  },
  {
   "cell_type": "code",
   "execution_count": null,
   "id": "573774eb-1684-40e1-9480-49b2ff9411c6",
   "metadata": {},
   "outputs": [],
   "source": []
  }
 ],
 "metadata": {
  "kernelspec": {
   "display_name": "Python 3 (ipykernel)",
   "language": "python",
   "name": "python3"
  },
  "language_info": {
   "codemirror_mode": {
    "name": "ipython",
    "version": 3
   },
   "file_extension": ".py",
   "mimetype": "text/x-python",
   "name": "python",
   "nbconvert_exporter": "python",
   "pygments_lexer": "ipython3",
   "version": "3.13.5"
  }
 },
 "nbformat": 4,
 "nbformat_minor": 5
}
