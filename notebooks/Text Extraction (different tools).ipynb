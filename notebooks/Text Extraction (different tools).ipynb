{
 "cells": [
  {
   "cell_type": "markdown",
   "id": "16e7f1dc-1cac-45ac-bd3e-955420792e34",
   "metadata": {},
   "source": [
    "## PyPDF"
   ]
  },
  {
   "cell_type": "code",
   "execution_count": 1,
   "id": "20e638ac-d084-4bf4-93fa-f91d2548e7a5",
   "metadata": {},
   "outputs": [],
   "source": [
    "import os\n",
    "from langchain_community.document_loaders import PyPDFLoader"
   ]
  },
  {
   "cell_type": "code",
   "execution_count": 11,
   "id": "48e7447a-ecae-4592-8b48-015c6670ef56",
   "metadata": {},
   "outputs": [],
   "source": [
    "loader = PyPDFLoader(\"resources/HSC26-Bangla1st-Paper-4.pdf\")\n",
    "documents = loader.load()"
   ]
  },
  {
   "cell_type": "code",
   "execution_count": 13,
   "id": "f1c120be-4e98-4394-9fca-82aa2697e403",
   "metadata": {},
   "outputs": [],
   "source": [
    "extracted_texts = []\n",
    "for doc in documents:\n",
    "    page_text = doc.page_content.strip()\n",
    "    if page_text:\n",
    "        extracted_texts.append(page_text)\n",
    "\n",
    "content = \"\\n\".join([text for text in extracted_texts if text])"
   ]
  },
  {
   "cell_type": "code",
   "execution_count": 14,
   "id": "63fed6fc-4ed9-473a-bd48-a9fb48e405a2",
   "metadata": {},
   "outputs": [
    {
     "name": "stdout",
     "output_type": "stream",
     "text": [
      "শব্দার্ব ও টীকা\n",
      "েূ  শব্দ শলব্দি অর্ব ও িযাখ্যা\n",
      "মনু-সংহীতা র্ব্ধানকতিা ব্া িাস্ত্রপ্রকণতা মুর্নর্ব্কিষ।\n",
      "মনু-সংহীতা মনু-প্রণীত মানুকষি আচিণর্ব্র্ধ সংক্রান্ত গ্রন্থ ।\n",
      "প্রিাপর্ত িীকব্ি রষ্ট্া। ব্রহ্মা। ইর্ন র্ব্ক ি যদব্তা।\n",
      "পঞ্চিি মদনকদকব্ি ব্যব্হােি পঁাচ ধিকনি ব্াণ।\n",
      "কন্সটি নানা িকম ব্াদযেকন্ত্রি ঐকতান।\n",
      "যসকিা স্বণিকাি, যসানাি অলংকাি প্রস্তুতকািক\n",
      "ব্ব্িি যকালাহকলি মি হস্তী দ্বািা \n",
      "সংগীতসিস্বতীি পদ্মব্ন\n",
      "দজলত র্ব্দজলত কর্ি া আর্ম যতা \n",
      "র্ব্ব্াহ-ব্ার়্েকত র্গ া\n",
      "উঠিলাম\n",
      "অনুপম র্নকিি র্ব্ব্াহোত্রাি পর্িজির্ত ব্ণিনা  সুিিূনয\n",
      "র্ব্কট যকালাহলকক সংগীত সিস্বতীি পদ্মব্ন দজলত হও াি\n",
      "ঘটনাি সকঙ্গ তুলনা ককিকি।\n",
      "অর্ভর্ষক্ত অর্ভকষক কিা হক কি এমন\n",
      "সওগঁাদ উপক ৌকন। যভট।\n",
      "যদও া-যথাও া যে পাথকি ঘকষ যসানাি খঁাটিত্ব পিীক্ষা কিা হ \n",
      "কষ্টিপাথি আলকব্ালা। ফির্স। দীঘি নলেুক্ত হুকার্ব্কিষ\n",
      "মকিমুকখা যমাটা একখানা ব্ালা মকি ব্া কুর্মকিি মুখাকৃর্তেুক্ত হাকত পর্িকধ \n",
      "অলংকাির্ব্কিষ\n",
      "এ ার্িং কাকনি দুল। Earring\n",
      "দক্ষেজ্ঞা\n",
      "প্রিাপর্ত দক্ষ কতৃিক অনুজিত েজ্ঞা। এ েকজ্ঞা পর্তর্নন্দা শুকন\n",
      "সতী যদহতযাগ ককিন। স্ত্রীি মৃতুযসংব্াদ শুকন র্িব্\n",
      "অনুচিসহ েজ্ঞািকল যপৌকি েজ্ঞা ধ্বংস ককি যদন এব্ং সতীি\n",
      "িব্ কঁাকধ তুকল র্নক  প্রল  নৃকতয মি হন। এখাকন প্রল কাণ্ড\n",
      "ব্া হট্টকগাল যব্াঝাকে।\n",
      "িসনকচৌর্ক িানাই, য াল ও কঁার্স- এই র্তন ব্াদযেকন্ত্র সৃষ্ট্ ঐকতানব্াদন\n",
      "অভ্র এক ধিকনি খর্নি ধাতু। Mica\n",
      "অকভ্রি ঝা়ে অকভ্রি দতর্ি ঝা়েব্ার্ত।\n",
      "মহার্নব্িাণ সব্িককমি ব্ন্ধন যথকক মুজক্ত।\n",
      "কজল পুিাকণ ব্র্ণিত চাি েুকগি যিষ েুগ। কজলেুগ।\n",
      "কজল যে চািকপা া হই া আর্সল। কজলকাল পর্িপূণিরূকপ আত্মপ্রকাি কিল।\n",
      "4\n"
     ]
    }
   ],
   "source": [
    "print(content)"
   ]
  },
  {
   "cell_type": "code",
   "execution_count": null,
   "id": "09c30d01-e452-4d79-9e6b-81285d644e23",
   "metadata": {},
   "outputs": [],
   "source": []
  },
  {
   "cell_type": "markdown",
   "id": "566e66f8-d893-4926-b867-679e21770cda",
   "metadata": {},
   "source": [
    "## pymupdf4llm\n"
   ]
  },
  {
   "cell_type": "code",
   "execution_count": 16,
   "id": "8294f12a-ffe7-4316-8031-edbcd0f77079",
   "metadata": {},
   "outputs": [
    {
     "name": "stdout",
     "output_type": "stream",
     "text": [
      "Requirement already satisfied: pymupdf4llm==0.0.27 in c:\\users\\sarawar hossain\\documents\\porashuna\\.venv\\lib\\site-packages (0.0.27)\n",
      "Requirement already satisfied: pymupdf>=1.26.3 in c:\\users\\sarawar hossain\\documents\\porashuna\\.venv\\lib\\site-packages (from pymupdf4llm==0.0.27) (1.26.3)\n"
     ]
    }
   ],
   "source": [
    "!pip install pymupdf4llm==0.0.27"
   ]
  },
  {
   "cell_type": "code",
   "execution_count": 17,
   "id": "935db400-e5a9-449c-ab3b-1059ada70e5a",
   "metadata": {},
   "outputs": [],
   "source": [
    "import pymupdf4llm\n",
    "content = pymupdf4llm.to_markdown(\"resources/HSC26-Bangla1st-Paper-4.pdf\")"
   ]
  },
  {
   "cell_type": "code",
   "execution_count": 18,
   "id": "22834d59-422d-4a8b-b734-9c0adb71c6a9",
   "metadata": {},
   "outputs": [
    {
     "data": {
      "text/markdown": [
       "|শব্দারব ্ও টীকা|Col2|\n",
       "|---|---|\n",
       "|**ে শব**|**শলবি অর ও িযাখযা**|\n",
       "|মন-সংহীতা|রবধানকতা বা িাসপকণতা মরনরবকিষ।|\n",
       "|মন-সংহীতা|মন-পণীত মানকষি আচিণরবরধ সংকান গন ।|\n",
       "|পিাপরত|িীকবি রষা। বহা। ইরন রবক ি যদবতা।|\n",
       "|পঞিি|মদনকদকবি বযবহাে পাচ ধিকনি বাণ।|\n",
       "|কনট|নানা িকম বাদযেকনি ঐকতান।|\n",
       "|যসকিা|সণকাি, যসানাি অলংকাি পসকািক|\n",
       "|বব যকালাহকলি মি হসী দািা<br>সংগীতসিসতীি পদবন<br>দজলত রবদজলত করি া আরম যতা<br>রববাহ-বার়কত রগ া<br>উঠলাম|অনপম রনকিি রববাহোতাি পরিজিরত বণনা সিিনয<br>রবকট যকালাহলকক সংগীত সিসতীি পদবন দজলত হও াি<br>ঘটনাি সকঙ তলনা ককিকি।|\n",
       "|অরভরষক|অরভকষক কিা হক কি এমন|\n",
       "|সওগাদ|উপক ৌকন। যভট।|\n",
       "|যদও া-যথাও া|যে পাথকি ঘকষ যসানাি খাটত পিীকা কিা হ|\n",
       "|কষপাথি|আলকবালা। ফিরস। দীঘ নলেক হকারবকিষ|\n",
       "|মকিমকখা যমাটা একখানা বালা|মকি বা করমকিি মখাকরতেক হাকত পরিকধ<br>অলংকািরবকিষ|\n",
       "|এ ারিং|কাকনি দল। Earring|\n",
       "|দকেজ|পিাপরত দক কতক অনজিত েজ। এ েকজ পরতরননা শকন<br>সতী যদহতযাগ ককিন। সীি মতযসংবাদ শকন রিব<br>অনচিসহ েজিকল যপৌকি েজ ধংস ককি যদন এবং সতীি<br>িব কাকধ তকল রনক পল নকতয মি হন। এখাকন পল কাণ<br>বা হটকগাল যবাঝাকে।|\n",
       "|িসনকচৌরক|িানাই, য াল ও কারস- এই রতন বাদযেকন সষ ঐকতানবাদন|\n",
       "|অভ|এক ধিকনি খরনি ধাত। Mica|\n",
       "|অকভি ঝা়|অকভি দতরি ঝা়বারত।|\n",
       "|মহারনবাণ|সবিককমি বনন যথকক মজক।|\n",
       "|কজল|পিাকণ বরণত চাি েকগি যিষ েগ। কজলেগ।|\n",
       "|কজল যে চািকপা া হই া আরসল।|কজলকাল পরিপণরকপ আতপকাি কিল।|\n",
       "\n",
       "\n",
       "4\n",
       "\n",
       "\n"
      ],
      "text/plain": [
       "<IPython.core.display.Markdown object>"
      ]
     },
     "metadata": {},
     "output_type": "display_data"
    }
   ],
   "source": [
    "from IPython.display import display, Markdown\n",
    "display(Markdown(content))"
   ]
  },
  {
   "cell_type": "code",
   "execution_count": null,
   "id": "3e88e7b7-62ae-4672-a1ee-780e5f9a09c6",
   "metadata": {},
   "outputs": [],
   "source": []
  },
  {
   "cell_type": "markdown",
   "id": "d10acf8d-a968-488c-ab22-f2fa434d933d",
   "metadata": {},
   "source": [
    "## Easyocr"
   ]
  },
  {
   "cell_type": "code",
   "execution_count": 19,
   "id": "0499392a-9e06-4b43-ad55-33e76093faf5",
   "metadata": {},
   "outputs": [
    {
     "name": "stderr",
     "output_type": "stream",
     "text": [
      "  WARNING: Failed to remove contents in a temporary directory 'C:\\Users\\Sarawar Hossain\\Documents\\porashuna\\.venv\\Lib\\site-packages\\~umpy.libs'.\n",
      "  You can safely remove it manually.\n",
      "  WARNING: Failed to remove contents in a temporary directory 'C:\\Users\\Sarawar Hossain\\Documents\\porashuna\\.venv\\Lib\\site-packages\\~umpy'.\n",
      "  You can safely remove it manually.\n"
     ]
    }
   ],
   "source": [
    "!pip install -q easyocr"
   ]
  },
  {
   "cell_type": "code",
   "execution_count": 25,
   "id": "9bc65e4d-bedb-4ddd-a273-e7b727d42ef3",
   "metadata": {},
   "outputs": [],
   "source": [
    "import easyocr\n",
    "import fitz \n",
    "\n",
    "docs = fitz.open(\"resources/HSC26-Bangla1st-Paper-4.pdf\")"
   ]
  },
  {
   "cell_type": "code",
   "execution_count": 26,
   "id": "93f49bf7-0923-4331-859d-4f10a0b2ae75",
   "metadata": {},
   "outputs": [
    {
     "name": "stderr",
     "output_type": "stream",
     "text": [
      "Neither CUDA nor MPS are available - defaulting to CPU. Note: This module is much faster with a GPU.\n",
      "C:\\Users\\Sarawar Hossain\\Documents\\porashuna\\.venv\\Lib\\site-packages\\torch\\utils\\data\\dataloader.py:665: UserWarning: 'pin_memory' argument is set as true but no accelerator is found, then device pinned memory won't be used.\n",
      "  warnings.warn(warn_msg)\n"
     ]
    },
    {
     "name": "stdout",
     "output_type": "stream",
     "text": [
      "[গনচ]\n",
      "অনলাহল ব্যাচ\"\n",
      "]CIHUTE\n",
      "শব্দাথ ও টীকা\n",
      "মূল শব্দ\n",
      "শ্দের অথ ও ব্যাখ্যা\n",
      "মলু-সংহীতা\n",
      "বিধানকর্তা বা শাস্ত্রপ্রণেত্তা মুলিবিশেষ|\n",
      "মলু-সংহীতা\n",
      "মলু-প্রণীভ মালুমের আচরণবিধি সংক্রান্ত গ্রন্থ\n",
      "প্রজাপতি\n",
      "জীবের স্রষ্টা| ব্রহ্মা] ইলি বিয়ের দেবতা]\n",
      "পঞুশর\n",
      "{[দ161[[দ[_|\n",
      "বযবহার্য পাঁচ ধরনের বাণ]\n",
      "কলট\n",
      "7|1]5k|3'\n",
      "5|[]|`|[;!|\n",
      "ঐকতাল]\n",
      "[||:|[|\n",
      "স্বর্ণকার\n",
      "[lদI[[73h1চ| &][&{i<P||5[|\n",
      "বর্বর কোলাহলের মত্ত হস্তী দ্বারা\n",
      "সংগতসরস্বতীর\n",
      "অনুপম\n",
      "বিবাহযাত্রার পরিস্থিতি বর্ণলায় সুরপূন্য\n",
      "দলিত বিদলিত করিয়া আমি তো\n",
      "বিকট কোলাহলকে সংগীভ সরস্বভীর পদ্মবল দলিত ডওয়ার\n",
      "বিবাহ্র-বাড়িতে গিয়়া\n",
      "ঘঢনার সসে ভুলনা করেদে\n",
      "উাঠলাম\n",
      "অভিষিক্ত\n",
      "আভিষেক করা\n",
      "চমঢে ডমন\n",
      "সওগাদ\n",
      "উপঢৌকল] ভেট\n",
      "দেয়া-দোয়া\n",
      "পাথরে ঘমে সোলার খাাটত্ব পরীক্ষা করা হ্রয়\n",
      "কাইপাথর\n",
      "জননন্য\n",
      "ফরসি [ দীর্ঘ নলযুক্ত হকাবিশেষ\n",
      "মকর\n",
      "কুমিরের মুখাকৃাতযুক্ত হাতে পরিধেয়\n",
      "মকরমুখো মোটা একখালা বালা\n",
      "জলংকারনণেষ\n",
      "এয়ারিং\n",
      "কালের দুলI Earring\n",
      "প্রজাপতি\n",
      "কতৃক অনুতিত যজ্ঞা\n",
      "[দ1=\n",
      "পতিনিন্দা শুনে\n",
      "সর্তী দেহভাগ করেন\n",
      "স্ত্রার মুত্যুসংবাদ\n",
      "দজ্গঘ্জ্\n",
      "চরসহ্র যজ্ঞস্থূলে পৌঁতে যঙ্ঞা ধ্বংস করে দেল এবং সতীর\n",
      "শব কাধে তুলে নিয়ে প্রলয় নুত্য মত্ত হল] এখালে প্রলয়কাণ্ড\n",
      "বা হঢ়গোল বোঝাচ্ছে |\n",
      "শালাই ঢোল ও কাঁসি- এই তিল বাদ্যযল্ত্ে সুষ্ট ঐকতানবাদল\n",
      ";[_615\n",
      "ধরাতুl Mica\n",
      "অভ্রের ঝাড়\n",
      "৬l|[৫ড15\n",
      "তৈরি ঝাড়বাতি|\n",
      "মহালির্বাণ\n",
      "সনরকমের নল\n",
      "[3[[',\n",
      "যুক্কতি\n",
      "কাল\n",
      "পুরাণে বার্গিত চার যুগের শেষ যুগ |\n",
      "কলি যে চারপোয়া হইয়া আসিল]\n",
      "কলিকাল পরিপূর্ণরপে আত্মপ্রকাশ করলা\n",
      "নিজের\n",
      "গদ্ব\n",
      "রসনচৌরি\n",
      "থনিত\n",
      "ফলিযুগ!\n",
      "\n"
     ]
    }
   ],
   "source": [
    "reader = easyocr.Reader(['bn', 'en'])  # Bengali + English\n",
    "content = \"\"\n",
    "    \n",
    "for doc in docs:\n",
    "    pix = doc.get_pixmap()\n",
    "    img_data = pix.tobytes(\"png\")\n",
    "    results = reader.readtext(img_data)\n",
    "    for (bbox, text_content, confidence) in results:\n",
    "        content += text_content + \"\\n\"\n",
    "    \n",
    "print(content)"
   ]
  },
  {
   "cell_type": "code",
   "execution_count": null,
   "id": "50ced623-dfb7-40a2-8b6f-3ac6b37a7415",
   "metadata": {},
   "outputs": [],
   "source": []
  },
  {
   "cell_type": "markdown",
   "id": "7e0b82b5-dea0-4fa0-ae09-ab6b53a21add",
   "metadata": {},
   "source": [
    "## pdfplumber"
   ]
  },
  {
   "cell_type": "code",
   "execution_count": 29,
   "id": "d67c604e-d80d-4e17-9ae2-ad634e964acd",
   "metadata": {},
   "outputs": [],
   "source": [
    "!pip install -q pdfplumber"
   ]
  },
  {
   "cell_type": "code",
   "execution_count": 30,
   "id": "f1dccd1f-56f9-481d-975a-9125fe5bf7f0",
   "metadata": {},
   "outputs": [
    {
     "name": "stdout",
     "output_type": "stream",
     "text": [
      "শব্দার্ব ও টীকা\n",
      "েূ শব্দ শলব্দি অর্ব ও িযাখ্যা\n",
      "মনু-সংহীতা র্ব্ধানকতিা ব্া িাস্ত্রপ্রকণতা মুর্নর্ব্কিষ।\n",
      "মনু-সংহীতা মনু-প্রণীত মানুকষি আচিণর্ব্র্ধ সংক্রান্ত গ্রন্থ ।\n",
      "প্রিাপর্ত িীকব্ি রষ্ট্া। ব্রহ্মা। ইর্ন র্ব্ক ি যদব্তা।\n",
      "পঞ্চিি মদনকদকব্ি ব্যব্হােি পঁাচ ধিকনি ব্াণ।\n",
      "কন্সটি নানা িকম ব্াদযেকন্ত্রি ঐকতান।\n",
      "যসকিা স্বণিকাি, যসানাি অলংকাি প্রস্তুতকািক\n",
      "ব্ব্িি যকালাহকলি মি হস্তী দ্বািা\n",
      "সংগীতসিস্বতীি পদ্মব্ন অনুপম র্নকিি র্ব্ব্াহোত্রাি পর্িজির্ত ব্ণিনা সুিিূনয\n",
      "দজলত র্ব্দজলত কর্ি া আর্ম যতা র্ব্কট যকালাহলকক সংগীত সিস্বতীি পদ্মব্ন দজলত হও াি\n",
      "র্ব্ব্াহ-ব্ার়্েকত র্গ া ঘটনাি সকঙ্গ তুলনা ককিকি।\n",
      "উঠিলাম\n",
      "অর্ভর্ষক্ত অর্ভকষক কিা হক কি এমন\n",
      "সওগঁাদ উপক ৌকন। যভট।\n",
      "যদও া-যথাও া যে পাথকি ঘকষ যসানাি খঁাটিত্ব পিীক্ষা কিা হ\n",
      "কষ্টিপাথি আলকব্ালা। ফির্স। দীঘি নলেুক্ত হুকার্ব্কিষ\n",
      "মকি ব্া কুর্মকিি মুখাকৃর্তেুক্ত হাকত পর্িকধ\n",
      "মকিমুকখা যমাটা একখানা ব্ালা\n",
      "অলংকাির্ব্কিষ\n",
      "এ ার্িং কাকনি দলু । Earring\n",
      "প্রিাপর্ত দক্ষ কতিৃক অনুজিত েজ্ঞা। এ েকজ্ঞা পর্তর্নন্দা শুকন\n",
      "সতী যদহতযাগ ককিন। স্ত্রীি মৃতুযসংব্াদ শুকন র্িব্\n",
      "দক্ষেজ্ঞা অনুচিসহ েজ্ঞািকল যপৌকি েজ্ঞা ধ্বংস ককি যদন এব্ং সতীি\n",
      "িব্ কঁাকধ তুকল র্নক প্রল নৃকতয মি হন। এখাকন প্রল কাণ্ড\n",
      "ব্া হট্টকগাল যব্াঝাকে।\n",
      "িসনকচৌর্ক িানাই, য াল ও কঁার্স-এই র্তন ব্াদযেকন্ত্র সৃষ্ট্ ঐকতানব্াদন\n",
      "অভ্র এক ধিকনি খর্নি ধাতু। Mica\n",
      "অকভ্রি ঝা়ে অকভ্রি দতর্ি ঝা়েব্ার্ত।\n",
      "মহার্নব্িাণ সব্িককমি ব্ন্ধন যথকক মুজক্ত।\n",
      "কজল পুিাকণ ব্র্ণিত চাি েুকগি যিষ েুগ। কজলেুগ।\n",
      "কজল যে চািকপা া হই া আর্সল। কজলকাল পর্িপূণিরূকপ আত্মপ্রকাি কিল।\n",
      "4\n",
      "\n"
     ]
    }
   ],
   "source": [
    "import pdfplumber\n",
    "\n",
    "content = \"\"\n",
    "with pdfplumber.open(\"resources/HSC26-Bangla1st-Paper-4.pdf\") as pdf:\n",
    "    for page in pdf.pages:\n",
    "        page_text = page.extract_text()\n",
    "        if page_text:\n",
    "            content += page_text.encode('utf-8').decode('utf-8') + \"\\n\"\n",
    "\n",
    "print(content)"
   ]
  },
  {
   "cell_type": "code",
   "execution_count": null,
   "id": "0631e4bf-a0f1-4dff-bf1e-8bf16afdbb8c",
   "metadata": {},
   "outputs": [],
   "source": []
  }
 ],
 "metadata": {
  "kernelspec": {
   "display_name": "Python 3 (ipykernel)",
   "language": "python",
   "name": "python3"
  },
  "language_info": {
   "codemirror_mode": {
    "name": "ipython",
    "version": 3
   },
   "file_extension": ".py",
   "mimetype": "text/x-python",
   "name": "python",
   "nbconvert_exporter": "python",
   "pygments_lexer": "ipython3",
   "version": "3.13.5"
  }
 },
 "nbformat": 4,
 "nbformat_minor": 5
}
